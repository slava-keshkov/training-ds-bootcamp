{
 "cells": [
  {
   "cell_type": "code",
   "execution_count": 146,
   "metadata": {},
   "outputs": [],
   "source": [
    "# use chinese calendar\n",
    "# get copy of events list like now in excel\n",
    "import pandas as pd"
   ]
  },
  {
   "cell_type": "code",
   "execution_count": 162,
   "metadata": {},
   "outputs": [
    {
     "name": "stdout",
     "output_type": "stream",
     "text": [
      "----- print all festivals in english: -----\n",
      "New Year's Day 2040-01-01\n",
      "Valentine's Day 2040-02-14\n",
      "Women's Day 2040-03-08\n",
      "Arbor Day 2040-03-12\n",
      "Ching Ming Festival 2040-04-04\n",
      "Labour Day 2040-05-01\n",
      "Youth Day in China 2040-05-04\n",
      "International Nurses Day 2040-05-12\n",
      "Mother's Day 2040-05-13\n",
      "Children's Day 2040-06-01\n",
      "Father's Day 2040-06-17\n",
      "Teacher's Day 2040-09-10\n",
      "National Day of the People's Republic of China 2040-10-01\n",
      "Halloween 2040-10-31\n",
      "Thanksgiving Day 2040-11-22\n",
      "Christmas Eve 2040-12-24\n",
      "Christmas Day 2040-12-25\n",
      "Easter 2040-04-01\n",
      "LaBa Festival 2040-01-21\n",
      "New Year's Eve 2040-02-11\n",
      "XiaoNian 2040-02-05\n",
      "Chinese New Year 2040-02-12\n",
      "PoWu Festival 2040-02-16\n",
      "Lantern Festival 2040-02-26\n",
      "Dragon Head Festival 2040-03-14\n",
      "Dragon Boat Festival 2040-06-14\n",
      "Qixi Festival 2040-08-14\n",
      "Ghost Festival 2040-08-22\n",
      "Mid-Autumn Festival 2040-09-20\n",
      "Double Ninth Festival 2040-10-14\n",
      "HanYi Festival 2040-11-05\n",
      "Dong Festival 2040-12-21\n"
     ]
    }
   ],
   "source": [
    "from lunarcalendar.festival import festivals\n",
    "\n",
    "print(\"----- print all festivals in english: -----\")\n",
    "for fest in festivals:\n",
    "    print(fest.get_lang('en'), fest(2040))"
   ]
  },
  {
   "cell_type": "code",
   "execution_count": 163,
   "metadata": {},
   "outputs": [
    {
     "data": {
      "text/plain": [
       "{datetime.date(2050, 1, 1): \"New Year's Day\",\n",
       " datetime.date(2050, 1, 3): \"New Year's Day (Observed)\",\n",
       " datetime.date(2050, 1, 26): 'Australia Day',\n",
       " datetime.date(2050, 4, 8): 'Good Friday',\n",
       " datetime.date(2050, 4, 11): 'Easter Monday',\n",
       " datetime.date(2050, 4, 25): 'Anzac Day',\n",
       " datetime.date(2050, 12, 25): 'Christmas Day',\n",
       " datetime.date(2050, 12, 27): 'Christmas Day (Observed)',\n",
       " datetime.date(2050, 12, 26): 'Boxing Day'}"
      ]
     },
     "execution_count": 163,
     "metadata": {},
     "output_type": "execute_result"
    }
   ],
   "source": [
    "import holidays\n",
    "hol = holidays.Australia(years = 2050)  \n",
    "hol"
   ]
  },
  {
   "cell_type": "code",
   "execution_count": 168,
   "metadata": {},
   "outputs": [
    {
     "data": {
      "text/plain": [
       "{datetime.date(2090, 1, 2): 'The day following the first day of January',\n",
       " datetime.date(2090, 1, 30): \"Lunar New Year's Day\",\n",
       " datetime.date(2090, 1, 31): 'The second day of Lunar New Year',\n",
       " datetime.date(2090, 2, 1): 'The third day of Lunar New Year',\n",
       " datetime.date(2090, 4, 5): 'Ching Ming Festival',\n",
       " datetime.date(2090, 4, 14): 'Good Friday',\n",
       " datetime.date(2090, 4, 15): 'The day following Good Friday',\n",
       " datetime.date(2090, 4, 17): 'Easter Monday',\n",
       " datetime.date(2090, 5, 8): 'The day following Birthday of the Buddha',\n",
       " datetime.date(2090, 5, 1): 'Labour Day',\n",
       " datetime.date(2090, 6, 2): 'Tuen Ng Festival',\n",
       " datetime.date(2090, 7, 1): 'Hong Kong Special Administrative Region Establishment Day',\n",
       " datetime.date(2090, 9, 9): 'The day following the Chinese Mid-Autumn Festival',\n",
       " datetime.date(2090, 10, 2): 'The day following National Day',\n",
       " datetime.date(2090, 10, 31): 'Chung Yeung Festival',\n",
       " datetime.date(2090, 12, 25): 'Christmas Day',\n",
       " datetime.date(2090, 12, 26): 'The first weekday after Christmas Day'}"
      ]
     },
     "execution_count": 168,
     "metadata": {},
     "output_type": "execute_result"
    }
   ],
   "source": [
    "hol = holidays.HongKong(years = 2090)  \n",
    "hol"
   ]
  }
 ],
 "metadata": {
  "kernelspec": {
   "display_name": "Python 3",
   "language": "python",
   "name": "python3"
  },
  "language_info": {
   "codemirror_mode": {
    "name": "ipython",
    "version": 3
   },
   "file_extension": ".py",
   "mimetype": "text/x-python",
   "name": "python",
   "nbconvert_exporter": "python",
   "pygments_lexer": "ipython3",
   "version": "3.6.8"
  }
 },
 "nbformat": 4,
 "nbformat_minor": 2
}
